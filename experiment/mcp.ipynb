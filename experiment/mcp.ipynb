{
 "cells": [
  {
   "cell_type": "code",
   "execution_count": null,
   "metadata": {},
   "outputs": [],
   "source": [
    "from setuptools import find_packages,setup\n",
    "\n",
    "setup(\n",
    "    name='mcqgenerator',\n",
    "    version='0.0.1',\n",
    "    author='karma tenzy',\n",
    "    author_email='karmatenzy408@gmail.com',\n",
    "    install_requires=[\"openai\",\"langchain\",\"streamlit\",\"pyython-dotenv\",\"PyPdF2\"],\n",
    "    packages=find_packages()\n",
    ")"
   ]
  }
 ],
 "metadata": {
  "kernelspec": {
   "display_name": "Python 3",
   "language": "python",
   "name": "python3"
  },
  "language_info": {
   "name": "python",
   "version": "3.8.20"
  }
 },
 "nbformat": 4,
 "nbformat_minor": 2
}
